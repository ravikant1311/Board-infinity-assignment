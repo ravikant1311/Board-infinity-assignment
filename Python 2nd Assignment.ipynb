{
 "cells": [
  {
   "cell_type": "code",
   "execution_count": 1,
   "metadata": {},
   "outputs": [],
   "source": [
    "import numpy as np\n",
    "import pandas as pd"
   ]
  },
  {
   "cell_type": "code",
   "execution_count": 2,
   "metadata": {},
   "outputs": [
    {
     "data": {
      "text/html": [
       "<div>\n",
       "<style scoped>\n",
       "    .dataframe tbody tr th:only-of-type {\n",
       "        vertical-align: middle;\n",
       "    }\n",
       "\n",
       "    .dataframe tbody tr th {\n",
       "        vertical-align: top;\n",
       "    }\n",
       "\n",
       "    .dataframe thead th {\n",
       "        text-align: right;\n",
       "    }\n",
       "</style>\n",
       "<table border=\"1\" class=\"dataframe\">\n",
       "  <thead>\n",
       "    <tr style=\"text-align: right;\">\n",
       "      <th></th>\n",
       "      <th>CustomerNum</th>\n",
       "    </tr>\n",
       "  </thead>\n",
       "  <tbody>\n",
       "    <tr>\n",
       "      <th>0</th>\n",
       "      <td>17</td>\n",
       "    </tr>\n",
       "    <tr>\n",
       "      <th>1</th>\n",
       "      <td>20</td>\n",
       "    </tr>\n",
       "    <tr>\n",
       "      <th>2</th>\n",
       "      <td>5</td>\n",
       "    </tr>\n",
       "    <tr>\n",
       "      <th>3</th>\n",
       "      <td>28</td>\n",
       "    </tr>\n",
       "    <tr>\n",
       "      <th>4</th>\n",
       "      <td>15</td>\n",
       "    </tr>\n",
       "  </tbody>\n",
       "</table>\n",
       "</div>"
      ],
      "text/plain": [
       "   CustomerNum\n",
       "0           17\n",
       "1           20\n",
       "2            5\n",
       "3           28\n",
       "4           15"
      ]
     },
     "execution_count": 2,
     "metadata": {},
     "output_type": "execute_result"
    }
   ],
   "source": [
    "table1= pd.read_excel('Table1.xlsx')\n",
    "table1.head()"
   ]
  },
  {
   "cell_type": "code",
   "execution_count": 3,
   "metadata": {},
   "outputs": [
    {
     "data": {
      "text/html": [
       "<div>\n",
       "<style scoped>\n",
       "    .dataframe tbody tr th:only-of-type {\n",
       "        vertical-align: middle;\n",
       "    }\n",
       "\n",
       "    .dataframe tbody tr th {\n",
       "        vertical-align: top;\n",
       "    }\n",
       "\n",
       "    .dataframe thead th {\n",
       "        text-align: right;\n",
       "    }\n",
       "</style>\n",
       "<table border=\"1\" class=\"dataframe\">\n",
       "  <thead>\n",
       "    <tr style=\"text-align: right;\">\n",
       "      <th></th>\n",
       "      <th>CustomerNum</th>\n",
       "    </tr>\n",
       "  </thead>\n",
       "  <tbody>\n",
       "    <tr>\n",
       "      <th>0</th>\n",
       "      <td>84</td>\n",
       "    </tr>\n",
       "    <tr>\n",
       "      <th>1</th>\n",
       "      <td>85</td>\n",
       "    </tr>\n",
       "    <tr>\n",
       "      <th>2</th>\n",
       "      <td>72</td>\n",
       "    </tr>\n",
       "    <tr>\n",
       "      <th>3</th>\n",
       "      <td>100</td>\n",
       "    </tr>\n",
       "    <tr>\n",
       "      <th>4</th>\n",
       "      <td>65</td>\n",
       "    </tr>\n",
       "  </tbody>\n",
       "</table>\n",
       "</div>"
      ],
      "text/plain": [
       "   CustomerNum\n",
       "0           84\n",
       "1           85\n",
       "2           72\n",
       "3          100\n",
       "4           65"
      ]
     },
     "execution_count": 3,
     "metadata": {},
     "output_type": "execute_result"
    }
   ],
   "source": [
    "table2= pd.read_excel('Table 2.xlsx')\n",
    "table2.head()"
   ]
  },
  {
   "cell_type": "code",
   "execution_count": 4,
   "metadata": {},
   "outputs": [],
   "source": [
    "df1=table1.CustomerNum.sort_values()\n",
    "df1=df1.reset_index(drop=True)"
   ]
  },
  {
   "cell_type": "code",
   "execution_count": 5,
   "metadata": {},
   "outputs": [],
   "source": [
    "df1=list(df1)"
   ]
  },
  {
   "cell_type": "code",
   "execution_count": 6,
   "metadata": {},
   "outputs": [],
   "source": [
    "df2=table2.CustomerNum.sort_values()\n",
    "df2=df2.reset_index(drop=True)"
   ]
  },
  {
   "cell_type": "code",
   "execution_count": 7,
   "metadata": {},
   "outputs": [],
   "source": [
    "df2=list(df2)"
   ]
  },
  {
   "cell_type": "code",
   "execution_count": 8,
   "metadata": {},
   "outputs": [
    {
     "data": {
      "text/plain": [
       "[[1, 2, 3],\n",
       " [4, 5, 6],\n",
       " [7, 8, 9],\n",
       " [10, 11, 12],\n",
       " [13, 14, 15],\n",
       " [16, 17, 18],\n",
       " [19, 20, 21],\n",
       " [22, 23, 24],\n",
       " [25, 26, 27],\n",
       " [28, 29, 30],\n",
       " [31, 32, 33],\n",
       " [34, 35, 36],\n",
       " [37, 38, 39],\n",
       " [40, 41, 42],\n",
       " [43, 44, 45],\n",
       " [46, 47, 48],\n",
       " [49, 50]]"
      ]
     },
     "execution_count": 8,
     "metadata": {},
     "output_type": "execute_result"
    }
   ],
   "source": [
    "list1=[df1[i:i+3] for i in range(0,len(df1),3)]\n",
    "list1"
   ]
  },
  {
   "cell_type": "code",
   "execution_count": 9,
   "metadata": {},
   "outputs": [
    {
     "data": {
      "text/plain": [
       "17"
      ]
     },
     "execution_count": 9,
     "metadata": {},
     "output_type": "execute_result"
    }
   ],
   "source": [
    "len(list1)"
   ]
  },
  {
   "cell_type": "code",
   "execution_count": 10,
   "metadata": {},
   "outputs": [
    {
     "data": {
      "text/plain": [
       "[[51, 52, 53, 54],\n",
       " [55, 56, 57, 58],\n",
       " [59, 60, 61, 62],\n",
       " [63, 64, 65, 66],\n",
       " [67, 68, 69, 70],\n",
       " [71, 72, 73, 74],\n",
       " [75, 76, 77, 78],\n",
       " [79, 80, 81, 82],\n",
       " [83, 84, 85, 86],\n",
       " [87, 88, 89, 90],\n",
       " [91, 92, 93, 94],\n",
       " [95, 96, 97, 98],\n",
       " [99, 100]]"
      ]
     },
     "execution_count": 10,
     "metadata": {},
     "output_type": "execute_result"
    }
   ],
   "source": [
    "list2=[df2[i:i+4] for i in range(0,len(df2),4)]\n",
    "list2"
   ]
  },
  {
   "cell_type": "code",
   "execution_count": 11,
   "metadata": {},
   "outputs": [
    {
     "data": {
      "text/plain": [
       "13"
      ]
     },
     "execution_count": 11,
     "metadata": {},
     "output_type": "execute_result"
    }
   ],
   "source": [
    "len(list2)"
   ]
  },
  {
   "cell_type": "code",
   "execution_count": 12,
   "metadata": {},
   "outputs": [
    {
     "name": "stdout",
     "output_type": "stream",
     "text": [
      "[[1, 2, 3], [51, 52, 53, 54], [4, 5, 6], [55, 56, 57, 58], [7, 8, 9], [59, 60, 61, 62], [10, 11, 12], [63, 64, 65, 66], [13, 14, 15], [67, 68, 69, 70], [16, 17, 18], [71, 72, 73, 74], [19, 20, 21], [75, 76, 77, 78], [22, 23, 24], [79, 80, 81, 82], [25, 26, 27], [83, 84, 85, 86], [28, 29, 30], [87, 88, 89, 90], [31, 32, 33], [91, 92, 93, 94], [34, 35, 36], [95, 96, 97, 98], [37, 38, 39], [99, 100]]\n"
     ]
    }
   ],
   "source": [
    "def combine(list1,list2):\n",
    "    new=[]\n",
    "    for i in range(len(list2)):\n",
    "        new.append(list1[i])\n",
    "        new.append(list2[i])\n",
    "    return new\n",
    "X=combine(list1,list2)\n",
    "print(X)"
   ]
  },
  {
   "cell_type": "code",
   "execution_count": 16,
   "metadata": {},
   "outputs": [
    {
     "name": "stdout",
     "output_type": "stream",
     "text": [
      "[1, 2, 3, 51, 52, 53, 54, 4, 5, 6, 55, 56, 57, 58, 7, 8, 9, 59, 60, 61, 62, 10, 11, 12, 63, 64, 65, 66, 13, 14, 15, 67, 68, 69, 70, 16, 17, 18, 71, 72, 73, 74, 19, 20, 21, 75, 76, 77, 78, 22, 23, 24, 79, 80, 81, 82, 25, 26, 27, 83, 84, 85, 86, 28, 29, 30, 87, 88, 89, 90, 31, 32, 33, 91, 92, 93, 94, 34, 35, 36, 95, 96, 97, 98, 37, 38, 39, 99, 100]\n"
     ]
    }
   ],
   "source": [
    "answer = [item for sublist in X for item in sublist]\n",
    "print(answer)"
   ]
  },
  {
   "cell_type": "markdown",
   "metadata": {},
   "source": [
    "# Question is ambiguous because It is not possible to combine completly. obviously two lists will have different length. "
   ]
  },
  {
   "cell_type": "markdown",
   "metadata": {},
   "source": [
    "## when the elements of list 2 is run out I am appending the remening value of list 1"
   ]
  },
  {
   "cell_type": "code",
   "execution_count": 17,
   "metadata": {},
   "outputs": [
    {
     "name": "stdout",
     "output_type": "stream",
     "text": [
      "[40, 41, 42, 43, 44, 45, 46, 47, 48, 49, 50]\n"
     ]
    }
   ],
   "source": [
    "Y= df1[39:]\n",
    "print(Y)"
   ]
  },
  {
   "cell_type": "code",
   "execution_count": 18,
   "metadata": {},
   "outputs": [
    {
     "name": "stdout",
     "output_type": "stream",
     "text": [
      "[1, 2, 3, 51, 52, 53, 54, 4, 5, 6, 55, 56, 57, 58, 7, 8, 9, 59, 60, 61, 62, 10, 11, 12, 63, 64, 65, 66, 13, 14, 15, 67, 68, 69, 70, 16, 17, 18, 71, 72, 73, 74, 19, 20, 21, 75, 76, 77, 78, 22, 23, 24, 79, 80, 81, 82, 25, 26, 27, 83, 84, 85, 86, 28, 29, 30, 87, 88, 89, 90, 31, 32, 33, 91, 92, 93, 94, 34, 35, 36, 95, 96, 97, 98, 37, 38, 39, 99, 100, 40, 41, 42, 43, 44, 45, 46, 47, 48, 49, 50]\n"
     ]
    }
   ],
   "source": [
    "answer.extend(Y)\n",
    "\n",
    "print(answer)"
   ]
  }
 ],
 "metadata": {
  "kernelspec": {
   "display_name": "Python 3",
   "language": "python",
   "name": "python3"
  },
  "language_info": {
   "codemirror_mode": {
    "name": "ipython",
    "version": 3
   },
   "file_extension": ".py",
   "mimetype": "text/x-python",
   "name": "python",
   "nbconvert_exporter": "python",
   "pygments_lexer": "ipython3",
   "version": "3.8.5"
  }
 },
 "nbformat": 4,
 "nbformat_minor": 4
}
